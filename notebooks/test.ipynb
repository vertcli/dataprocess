{
 "cells": [
  {
   "cell_type": "code",
   "execution_count": 1,
   "metadata": {},
   "outputs": [
    {
     "name": "stdout",
     "output_type": "stream",
     "text": [
      "Defaulting to user installation because normal site-packages is not writeable\n",
      "Processing /Users/albertclimentibigas/Documents/02UIC/Python2/compartida_docker/dataprocess\n",
      "\u001b[33m  DEPRECATION: A future pip version will change local packages to be built in-place without first copying to a temporary directory. We recommend you use --use-feature=in-tree-build to test your packages with this new behavior before it becomes the default.\n",
      "   pip 21.3 will remove support for this functionality. You can find discussion regarding this at https://github.com/pypa/pip/issues/7555.\u001b[0m\n",
      "Requirement already satisfied: google-cloud-bigquery==3.13.0 in /Users/albertclimentibigas/Library/Python/3.9/lib/python/site-packages (from dataprocess==0.1.1) (3.13.0)\n",
      "Requirement already satisfied: pandas==1.5.3 in /Users/albertclimentibigas/Library/Python/3.9/lib/python/site-packages (from dataprocess==0.1.1) (1.5.3)\n",
      "Requirement already satisfied: geopandas==0.13.2 in /Users/albertclimentibigas/Library/Python/3.9/lib/python/site-packages (from dataprocess==0.1.1) (0.13.2)\n",
      "Requirement already satisfied: db-dtypes==1.1.1 in /Users/albertclimentibigas/Library/Python/3.9/lib/python/site-packages (from dataprocess==0.1.1) (1.1.1)\n",
      "Requirement already satisfied: pyarrow>=3.0.0 in /Users/albertclimentibigas/Library/Python/3.9/lib/python/site-packages (from db-dtypes==1.1.1->dataprocess==0.1.1) (11.0.0)\n",
      "Requirement already satisfied: numpy>=1.16.6 in /Users/albertclimentibigas/Library/Python/3.9/lib/python/site-packages (from db-dtypes==1.1.1->dataprocess==0.1.1) (1.21.6)\n",
      "Requirement already satisfied: packaging>=17.0 in /Users/albertclimentibigas/Library/Python/3.9/lib/python/site-packages (from db-dtypes==1.1.1->dataprocess==0.1.1) (23.0)\n",
      "Requirement already satisfied: shapely>=1.7.1 in /Users/albertclimentibigas/Library/Python/3.9/lib/python/site-packages (from geopandas==0.13.2->dataprocess==0.1.1) (1.8.5.post1)\n",
      "Requirement already satisfied: pyproj>=3.0.1 in /Users/albertclimentibigas/Library/Python/3.9/lib/python/site-packages (from geopandas==0.13.2->dataprocess==0.1.1) (3.6.1)\n",
      "Requirement already satisfied: fiona>=1.8.19 in /Users/albertclimentibigas/Library/Python/3.9/lib/python/site-packages (from geopandas==0.13.2->dataprocess==0.1.1) (1.9.5)\n",
      "Requirement already satisfied: google-resumable-media<3.0dev,>=0.6.0 in /Users/albertclimentibigas/Library/Python/3.9/lib/python/site-packages (from google-cloud-bigquery==3.13.0->dataprocess==0.1.1) (2.4.1)\n",
      "Requirement already satisfied: google-api-core[grpc]!=2.0.*,!=2.1.*,!=2.2.*,!=2.3.0,<3.0.0dev,>=1.31.5 in /Users/albertclimentibigas/Library/Python/3.9/lib/python/site-packages (from google-cloud-bigquery==3.13.0->dataprocess==0.1.1) (1.34.0)\n",
      "Requirement already satisfied: proto-plus<2.0.0dev,>=1.15.0 in /Users/albertclimentibigas/Library/Python/3.9/lib/python/site-packages (from google-cloud-bigquery==3.13.0->dataprocess==0.1.1) (1.22.2)\n",
      "Requirement already satisfied: python-dateutil<3.0dev,>=2.7.2 in /Users/albertclimentibigas/Library/Python/3.9/lib/python/site-packages (from google-cloud-bigquery==3.13.0->dataprocess==0.1.1) (2.8.2)\n",
      "Requirement already satisfied: requests<3.0.0dev,>=2.21.0 in /Users/albertclimentibigas/Library/Python/3.9/lib/python/site-packages (from google-cloud-bigquery==3.13.0->dataprocess==0.1.1) (2.31.0)\n",
      "Requirement already satisfied: google-cloud-core<3.0.0dev,>=1.6.0 in /Users/albertclimentibigas/Library/Python/3.9/lib/python/site-packages (from google-cloud-bigquery==3.13.0->dataprocess==0.1.1) (2.3.2)\n",
      "Requirement already satisfied: protobuf!=3.20.0,!=3.20.1,!=4.21.0,!=4.21.1,!=4.21.2,!=4.21.3,!=4.21.4,!=4.21.5,<5.0.0dev,>=3.19.5 in /Users/albertclimentibigas/Library/Python/3.9/lib/python/site-packages (from google-cloud-bigquery==3.13.0->dataprocess==0.1.1) (3.20.3)\n",
      "Requirement already satisfied: grpcio<2.0dev,>=1.47.0 in /Users/albertclimentibigas/Library/Python/3.9/lib/python/site-packages (from google-cloud-bigquery==3.13.0->dataprocess==0.1.1) (1.48.2)\n",
      "Requirement already satisfied: pytz>=2020.1 in /Users/albertclimentibigas/Library/Python/3.9/lib/python/site-packages (from pandas==1.5.3->dataprocess==0.1.1) (2022.7.1)\n",
      "Requirement already satisfied: attrs>=19.2.0 in /Users/albertclimentibigas/Library/Python/3.9/lib/python/site-packages (from fiona>=1.8.19->geopandas==0.13.2->dataprocess==0.1.1) (22.2.0)\n",
      "Requirement already satisfied: six in /Users/albertclimentibigas/Library/Python/3.9/lib/python/site-packages (from fiona>=1.8.19->geopandas==0.13.2->dataprocess==0.1.1) (1.16.0)\n",
      "Requirement already satisfied: click-plugins>=1.0 in /Users/albertclimentibigas/Library/Python/3.9/lib/python/site-packages (from fiona>=1.8.19->geopandas==0.13.2->dataprocess==0.1.1) (1.1.1)\n",
      "Requirement already satisfied: click~=8.0 in /Users/albertclimentibigas/Library/Python/3.9/lib/python/site-packages (from fiona>=1.8.19->geopandas==0.13.2->dataprocess==0.1.1) (8.1.7)\n",
      "Requirement already satisfied: importlib-metadata in /Users/albertclimentibigas/Library/Python/3.9/lib/python/site-packages (from fiona>=1.8.19->geopandas==0.13.2->dataprocess==0.1.1) (6.0.0)\n",
      "Requirement already satisfied: setuptools in /Users/albertclimentibigas/Library/Python/3.9/lib/python/site-packages (from fiona>=1.8.19->geopandas==0.13.2->dataprocess==0.1.1) (67.6.0)\n",
      "Requirement already satisfied: certifi in /Users/albertclimentibigas/Library/Python/3.9/lib/python/site-packages (from fiona>=1.8.19->geopandas==0.13.2->dataprocess==0.1.1) (2022.12.7)\n",
      "Requirement already satisfied: cligj>=0.5 in /Users/albertclimentibigas/Library/Python/3.9/lib/python/site-packages (from fiona>=1.8.19->geopandas==0.13.2->dataprocess==0.1.1) (0.7.2)\n",
      "Requirement already satisfied: google-auth<3.0dev,>=1.25.0 in /Users/albertclimentibigas/Library/Python/3.9/lib/python/site-packages (from google-api-core[grpc]!=2.0.*,!=2.1.*,!=2.2.*,!=2.3.0,<3.0.0dev,>=1.31.5->google-cloud-bigquery==3.13.0->dataprocess==0.1.1) (2.16.0)\n",
      "Requirement already satisfied: googleapis-common-protos<2.0dev,>=1.56.2 in /Users/albertclimentibigas/Library/Python/3.9/lib/python/site-packages (from google-api-core[grpc]!=2.0.*,!=2.1.*,!=2.2.*,!=2.3.0,<3.0.0dev,>=1.31.5->google-cloud-bigquery==3.13.0->dataprocess==0.1.1) (1.58.0)\n",
      "Requirement already satisfied: grpcio-status<2.0dev,>=1.33.2 in /Users/albertclimentibigas/Library/Python/3.9/lib/python/site-packages (from google-api-core[grpc]!=2.0.*,!=2.1.*,!=2.2.*,!=2.3.0,<3.0.0dev,>=1.31.5->google-cloud-bigquery==3.13.0->dataprocess==0.1.1) (1.48.2)\n",
      "Requirement already satisfied: rsa<5,>=3.1.4 in /Users/albertclimentibigas/Library/Python/3.9/lib/python/site-packages (from google-auth<3.0dev,>=1.25.0->google-api-core[grpc]!=2.0.*,!=2.1.*,!=2.2.*,!=2.3.0,<3.0.0dev,>=1.31.5->google-cloud-bigquery==3.13.0->dataprocess==0.1.1) (4.9)\n",
      "Requirement already satisfied: pyasn1-modules>=0.2.1 in /Users/albertclimentibigas/Library/Python/3.9/lib/python/site-packages (from google-auth<3.0dev,>=1.25.0->google-api-core[grpc]!=2.0.*,!=2.1.*,!=2.2.*,!=2.3.0,<3.0.0dev,>=1.31.5->google-cloud-bigquery==3.13.0->dataprocess==0.1.1) (0.2.8)\n",
      "Requirement already satisfied: cachetools<6.0,>=2.0.0 in /Users/albertclimentibigas/Library/Python/3.9/lib/python/site-packages (from google-auth<3.0dev,>=1.25.0->google-api-core[grpc]!=2.0.*,!=2.1.*,!=2.2.*,!=2.3.0,<3.0.0dev,>=1.31.5->google-cloud-bigquery==3.13.0->dataprocess==0.1.1) (4.2.4)\n",
      "Requirement already satisfied: google-crc32c<2.0dev,>=1.0 in /Users/albertclimentibigas/Library/Python/3.9/lib/python/site-packages (from google-resumable-media<3.0dev,>=0.6.0->google-cloud-bigquery==3.13.0->dataprocess==0.1.1) (1.5.0)\n",
      "Requirement already satisfied: pyasn1<0.5.0,>=0.4.6 in /Users/albertclimentibigas/Library/Python/3.9/lib/python/site-packages (from pyasn1-modules>=0.2.1->google-auth<3.0dev,>=1.25.0->google-api-core[grpc]!=2.0.*,!=2.1.*,!=2.2.*,!=2.3.0,<3.0.0dev,>=1.31.5->google-cloud-bigquery==3.13.0->dataprocess==0.1.1) (0.4.8)\n",
      "Requirement already satisfied: charset-normalizer<4,>=2 in /Users/albertclimentibigas/Library/Python/3.9/lib/python/site-packages (from requests<3.0.0dev,>=2.21.0->google-cloud-bigquery==3.13.0->dataprocess==0.1.1) (2.1.1)\n",
      "Requirement already satisfied: idna<4,>=2.5 in /Users/albertclimentibigas/Library/Python/3.9/lib/python/site-packages (from requests<3.0.0dev,>=2.21.0->google-cloud-bigquery==3.13.0->dataprocess==0.1.1) (3.4)\n",
      "Requirement already satisfied: urllib3<3,>=1.21.1 in /Users/albertclimentibigas/Library/Python/3.9/lib/python/site-packages (from requests<3.0.0dev,>=2.21.0->google-cloud-bigquery==3.13.0->dataprocess==0.1.1) (1.26.14)\n",
      "Requirement already satisfied: zipp>=0.5 in /Users/albertclimentibigas/Library/Python/3.9/lib/python/site-packages (from importlib-metadata->fiona>=1.8.19->geopandas==0.13.2->dataprocess==0.1.1) (3.13.0)\n",
      "Building wheels for collected packages: dataprocess\n",
      "  Building wheel for dataprocess (setup.py) ... \u001b[?25ldone\n",
      "\u001b[?25h  Created wheel for dataprocess: filename=dataprocess-0.1.1-py2.py3-none-any.whl size=6035 sha256=23f3edc190acce0876a1404999b481c8c333c07f89fe25d914d21d7a3df7dcb7\n",
      "  Stored in directory: /private/var/folders/qx/jn24vmk96cq46n46mlg1qfkr0000gn/T/pip-ephem-wheel-cache-krlsc0dw/wheels/4d/2f/9e/508b1b9fdc3f58b7454ad3b7076d803fe1ad0e6d7ee9c3f948\n",
      "Successfully built dataprocess\n",
      "Installing collected packages: dataprocess\n",
      "  Attempting uninstall: dataprocess\n",
      "    Found existing installation: dataprocess 0.1.1\n",
      "    Uninstalling dataprocess-0.1.1:\n",
      "      Successfully uninstalled dataprocess-0.1.1\n",
      "Successfully installed dataprocess-0.1.1\n",
      "\u001b[33mWARNING: You are using pip version 21.2.4; however, version 23.3.1 is available.\n",
      "You should consider upgrading via the '/Library/Developer/CommandLineTools/usr/bin/python3 -m pip install --upgrade pip' command.\u001b[0m\n"
     ]
    }
   ],
   "source": [
    "!pip3 install .."
   ]
  },
  {
   "cell_type": "code",
   "execution_count": 2,
   "metadata": {},
   "outputs": [],
   "source": [
    "from dataprocess.dataprocess import ClienteCoberturaMovil\n",
    "from dataprocess.credentals_loader import load_credentials"
   ]
  },
  {
   "cell_type": "code",
   "execution_count": 3,
   "metadata": {},
   "outputs": [],
   "source": [
    "credentials = load_credentials(\n",
    "    \"/Users/albertclimentibigas/Documents/02UIC/Python2/compartida_docker/dataprocess/credentials/uic-2023-8ff1d8fa85c5.json\"\n",
    ")"
   ]
  },
  {
   "cell_type": "code",
   "execution_count": 4,
   "metadata": {},
   "outputs": [],
   "source": [
    "client = ClienteCoberturaMovil(\n",
    "    credenciales=credentials,\n",
    "    nombre_tabla=\"bigquery-public-data.catalonian_mobile_coverage_eu.mobile_data_2015_2017\",\n",
    ")"
   ]
  },
  {
   "cell_type": "code",
   "execution_count": 5,
   "metadata": {},
   "outputs": [],
   "source": [
    "client.set_map(\"../../../Data/inspire-unitats-estadistiques-comarques-etrs89-geo.gml\")"
   ]
  },
  {
   "cell_type": "code",
   "execution_count": 6,
   "metadata": {},
   "outputs": [
    {
     "name": "stdout",
     "output_type": "stream",
     "text": [
      "DID QUERY\n",
      "DID ASSIGN\n",
      "DID GROUP\n"
     ]
    },
    {
     "data": {
      "text/html": [
       "<div>\n",
       "<style scoped>\n",
       "    .dataframe tbody tr th:only-of-type {\n",
       "        vertical-align: middle;\n",
       "    }\n",
       "\n",
       "    .dataframe tbody tr th {\n",
       "        vertical-align: top;\n",
       "    }\n",
       "\n",
       "    .dataframe thead th {\n",
       "        text-align: right;\n",
       "    }\n",
       "</style>\n",
       "<table border=\"1\" class=\"dataframe\">\n",
       "  <thead>\n",
       "    <tr style=\"text-align: right;\">\n",
       "      <th></th>\n",
       "      <th>town_name</th>\n",
       "      <th>postal_code</th>\n",
       "      <th>long</th>\n",
       "      <th>lat</th>\n",
       "    </tr>\n",
       "  </thead>\n",
       "  <tbody>\n",
       "    <tr>\n",
       "      <th>0</th>\n",
       "      <td>Abella de la Conca</td>\n",
       "      <td>250019</td>\n",
       "      <td>1.126761</td>\n",
       "      <td>42.183258</td>\n",
       "    </tr>\n",
       "    <tr>\n",
       "      <th>1</th>\n",
       "      <td>Abrera</td>\n",
       "      <td>080018</td>\n",
       "      <td>1.900689</td>\n",
       "      <td>41.515229</td>\n",
       "    </tr>\n",
       "    <tr>\n",
       "      <th>2</th>\n",
       "      <td>Agramunt</td>\n",
       "      <td>250030</td>\n",
       "      <td>1.096079</td>\n",
       "      <td>41.787635</td>\n",
       "    </tr>\n",
       "    <tr>\n",
       "      <th>3</th>\n",
       "      <td>Aguilar de Segarra</td>\n",
       "      <td>080023</td>\n",
       "      <td>1.627244</td>\n",
       "      <td>41.737745</td>\n",
       "    </tr>\n",
       "    <tr>\n",
       "      <th>4</th>\n",
       "      <td>Agullana</td>\n",
       "      <td>170010</td>\n",
       "      <td>2.871176</td>\n",
       "      <td>42.397043</td>\n",
       "    </tr>\n",
       "  </tbody>\n",
       "</table>\n",
       "</div>"
      ],
      "text/plain": [
       "            town_name postal_code      long        lat\n",
       "0  Abella de la Conca      250019  1.126761  42.183258\n",
       "1              Abrera      080018  1.900689  41.515229\n",
       "2            Agramunt      250030  1.096079  41.787635\n",
       "3  Aguilar de Segarra      080023  1.627244  41.737745\n",
       "4            Agullana      170010  2.871176  42.397043"
      ]
     },
     "execution_count": 6,
     "metadata": {},
     "output_type": "execute_result"
    }
   ],
   "source": [
    "coords = client.generar_coordenadas()\n",
    "coords.head()"
   ]
  },
  {
   "cell_type": "code",
   "execution_count": null,
   "metadata": {},
   "outputs": [],
   "source": []
  }
 ],
 "metadata": {
  "kernelspec": {
   "display_name": "Python 3",
   "language": "python",
   "name": "python3"
  },
  "language_info": {
   "codemirror_mode": {
    "name": "ipython",
    "version": 3
   },
   "file_extension": ".py",
   "mimetype": "text/x-python",
   "name": "python",
   "nbconvert_exporter": "python",
   "pygments_lexer": "ipython3",
   "version": "3.9.6"
  }
 },
 "nbformat": 4,
 "nbformat_minor": 2
}
